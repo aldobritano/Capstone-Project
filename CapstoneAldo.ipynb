{
 "cells": [
  {
   "cell_type": "markdown",
   "metadata": {},
   "source": [
    "# Capstone Webscrapping using BeautifulSoup\n",
    "\n",
    "This project aims to answer and visualize the top 7 most popular movie in the `imdb` website. The visualization used is a simple fashboard using Flask library. In this notebook the steps and method will be presented from scraping data, finding `tags`, data wranggling and visualization.\n",
    "\n",
    "\n",
    "This following requirement for running this code:\n",
    "- Install `beautifulSoup4`\n",
    "- Install `pandas`\n",
    "- Install `flask`\n",
    "- Install `matplotlib`\n",
    "\n"
   ]
  },
  {
   "cell_type": "markdown",
   "metadata": {},
   "source": [
    "Before getting a request from the website, we should import `requests` first. Then, get the request to the website using `requests.get()`"
   ]
  },
  {
   "cell_type": "code",
   "execution_count": 2,
   "metadata": {
    "ExecuteTime": {
     "end_time": "2020-01-13T05:12:23.275508Z",
     "start_time": "2020-01-13T05:12:20.009898Z"
    }
   },
   "outputs": [],
   "source": [
    "import requests\n",
    "\n",
    "url_get = requests.get('https://www.imdb.com/search/title/?release_date=2019-01-01,2019-12-31')"
   ]
  },
  {
   "cell_type": "markdown",
   "metadata": {},
   "source": [
    "When the request work , we can see use `.content`. Then, slice it to get better visualization of html code from the page and we can also see full of html code."
   ]
  },
  {
   "cell_type": "code",
   "execution_count": 3,
   "metadata": {
    "ExecuteTime": {
     "end_time": "2020-01-13T05:12:23.290648Z",
     "start_time": "2020-01-13T05:12:23.277650Z"
    }
   },
   "outputs": [
    {
     "data": {
      "text/plain": [
       "b'\\n\\n\\n<!DOCTYPE html>\\n<html\\n    xmlns:og=\"http://ogp.me/ns#\"\\n    xmlns:fb=\"http://www.facebook.com/2008/fbml\">\\n    <head>\\n         \\n        <meta charset=\"utf-8\">\\n        <meta http-equiv=\"X-UA-Compatible\" content=\"IE=edge\">\\n\\n    <meta name=\"apple-itunes-app\" content=\"app-id=342792525, app-argument=imdb:///?src=mdot\">\\n\\n\\n\\n        <script type=\"text/javascript\">var IMDbTimer={starttime: new Date().getTime(),pt:\\'java\\'};</script>\\n\\n<script>\\n    if (typeof uet == \\'function\\') {\\n      uet(\"bb\", \"LoadTitle\", {wb: 1});\\n    }\\n</script>\\n  <script>(function(t){ (t.events = t.events || {})[\"csm_head_pre_title\"] = new Date().getTime(); })(IMDbTimer);</script>\\n        <title>Released between 2019-01-01 and 2019-12-31\\n(Sorted by Popularity Ascending) - IMDb</title>\\n  <script>(function(t){ (t.events = t.events || {})[\"csm_head_post_title\"] = new Date().getTime(); })(IMDbTimer);</script>\\n<script>\\n    if (typeof uet == \\'function\\') {\\n      uet(\"be\", \"LoadTitle\", {wb: 1});\\n    }\\n</script>\\n<script>\\n    if (type'"
      ]
     },
     "execution_count": 3,
     "metadata": {},
     "output_type": "execute_result"
    }
   ],
   "source": [
    "url_get.content[0:1000]"
   ]
  },
  {
   "cell_type": "markdown",
   "metadata": {},
   "source": [
    "In the code below we use beatifulsoup to extract a bunch of html line codes into something readible and structured."
   ]
  },
  {
   "cell_type": "code",
   "execution_count": 4,
   "metadata": {
    "ExecuteTime": {
     "end_time": "2020-01-13T05:12:23.808122Z",
     "start_time": "2020-01-13T05:12:23.292610Z"
    },
    "tags": []
   },
   "outputs": [
    {
     "name": "stdout",
     "output_type": "stream",
     "text": [
      "<class 'bs4.BeautifulSoup'>\n"
     ]
    }
   ],
   "source": [
    "from bs4 import BeautifulSoup \n",
    "\n",
    "soup = BeautifulSoup(url_get.content,\"html.parser\")\n",
    "print(type(soup))"
   ]
  },
  {
   "cell_type": "markdown",
   "metadata": {},
   "source": [
    "To peek the html that we run, we can do printing equal to 1000 characters\n",
    "\n"
   ]
  },
  {
   "cell_type": "code",
   "execution_count": 5,
   "metadata": {
    "ExecuteTime": {
     "end_time": "2020-01-13T05:12:23.851033Z",
     "start_time": "2020-01-13T05:12:23.810086Z"
    },
    "tags": []
   },
   "outputs": [
    {
     "name": "stdout",
     "output_type": "stream",
     "text": [
      "<!DOCTYPE html>\n",
      "<html xmlns:fb=\"http://www.facebook.com/2008/fbml\" xmlns:og=\"http://ogp.me/ns#\">\n",
      " <head>\n",
      "  <meta charset=\"utf-8\"/>\n",
      "  <meta content=\"IE=edge\" http-equiv=\"X-UA-Compatible\"/>\n",
      "  <meta content=\"app-id=342792525, app-argument=imdb:///?src=mdot\" name=\"apple-itunes-app\"/>\n",
      "  <script type=\"text/javascript\">\n",
      "   var IMDbTimer={starttime: new Date().getTime(),pt:'java'};\n",
      "  </script>\n",
      "  <script>\n",
      "   if (typeof uet == 'function') {\n",
      "      uet(\"bb\", \"LoadTitle\", {wb: 1});\n",
      "    }\n",
      "  </script>\n",
      "  <script>\n",
      "   (function(t){ (t.events = t.events || {})[\"csm_head_pre_title\"] = new Date().getTime(); })(IMDbTimer);\n",
      "  </script>\n",
      "  <title>\n",
      "   Released between 2019-01-01 and 2019-12-31\n",
      "(Sorted by Popularity Ascending) - IMDb\n",
      "  </title>\n",
      "  <script>\n",
      "   (function(t){ (t.events = t.events || {})[\"csm_head_post_title\"] = new Date().getTime(); })(IMDbTimer);\n",
      "  </script>\n",
      "  <script>\n",
      "   if (typeof uet == 'function') {\n",
      "      uet(\"be\", \"LoadTitle\", {wb: 1});\n",
      "    }\n",
      "  </script>\n",
      "  <script>\n",
      "   if (typeof uex == 'functi\n"
     ]
    }
   ],
   "source": [
    "print(soup.prettify()[:1000])"
   ]
  },
  {
   "cell_type": "markdown",
   "metadata": {},
   "source": [
    "In this step we need to find key tags and put the key into `.find()`  To find the key from the website, we should use inspecte element html from our browser. Select any particular information from the webpage, then see the tags such as `div`, `span` or `class`.\n",
    "\n",
    "In out project  we are going to get an information from Imdb webpage. So, after we inspect html we found `div` with `attrs={'class':'article'}` to extract the information we want. "
   ]
  },
  {
   "cell_type": "code",
   "execution_count": 6,
   "metadata": {
    "ExecuteTime": {
     "end_time": "2020-01-13T05:12:23.878904Z",
     "start_time": "2020-01-13T05:12:23.854974Z"
    },
    "tags": []
   },
   "outputs": [
    {
     "name": "stdout",
     "output_type": "stream",
     "text": [
      "<div class=\"article\">\n",
      " <h1 class=\"header\">\n",
      "  Released between 2019-01-01 and 2019-12-31\n",
      "(Sorted by Popularity Ascending)\n",
      " </h1>\n",
      " <div class=\"nav\">\n",
      "  <br class=\"clear\"/>\n",
      "  <div class=\"display-mode float-right\">\n",
      "   View Mode:\n",
      "   <a class=\"compact\" href=\"/search/title/?release_date=2019-01-01,2019-12-31&amp;view=simple\">\n",
      "    Compact\n",
      "   </a>\n",
      "   <span class=\"ghost\">\n",
      "    |\n",
      "   </span>\n",
      "   <a class=\"detailed\" href=\"/search/title/?release_date=2019-01-01,2019-12-31&amp;view=advanced\">\n",
      "    <strong>\n",
      "     Detailed\n",
      "    </strong>\n",
      "   </a>\n",
      "  </div>\n",
      "  <div class=\"desc\">\n",
      "   <span>\n",
      "    1-50 of 325,322 titles.\n",
      "   </span>\n",
      "   <span class=\"ghost\">\n",
      "    |\n",
      "   </span>\n",
      "   <a class=\"lister-page-next next-page\" href=\"/search/title/?release_date=2019-01-01,2019-12-31&amp;start=51\">\n",
      "    Next »\n",
      "   </a>\n",
      "  </div>\n",
      " </div>\n",
      " <br class=\"clear\"/>\n",
      " <div class=\"sorting\">\n",
      "  Sort by:\n",
      "  <a href=\"/search/title/?release_date=2019-01-01,2019-12-31&amp;sort=moviemeter,desc\">\n",
      "   <strong>\n",
      "    Popularity\n",
      "   </strong>\n",
      "   ▲\n",
      "  </a>\n",
      "  <span \n"
     ]
    }
   ],
   "source": [
    "main_webpage = soup.find('div', attrs={'class':'article'})\n",
    "print(main_webpage.prettify()[:1000])"
   ]
  },
  {
   "cell_type": "markdown",
   "metadata": {},
   "source": [
    "Before we are going to catch the specific information from each movie, we should to try catch the second_information tag first. Let's check the code below:\n",
    "\n",
    "- Using `find_all()` for getting the all information from html which located in `div` tag with `attrs={'class':'lister-item-content'}`\n",
    "- Slicing the `box_movie` object for getting 0 index value"
   ]
  },
  {
   "cell_type": "code",
   "execution_count": 19,
   "metadata": {},
   "outputs": [
    {
     "data": {
      "text/plain": [
       "<div class=\"lister-item-content\">\n",
       "<h3 class=\"lister-item-header\">\n",
       "<span class=\"lister-item-index unbold text-primary\">3.</span>\n",
       "<a href=\"/title/tt8946378/\">Knives Out</a>\n",
       "<span class=\"lister-item-year text-muted unbold\">(2019)</span>\n",
       "</h3>\n",
       "<p class=\"text-muted\">\n",
       "<span class=\"certificate\">17+</span>\n",
       "<span class=\"ghost\">|</span>\n",
       "<span class=\"runtime\">130 min</span>\n",
       "<span class=\"ghost\">|</span>\n",
       "<span class=\"genre\">\n",
       "Comedy, Crime, Drama            </span>\n",
       "</p>\n",
       "<div class=\"ratings-bar\">\n",
       "<div class=\"inline-block ratings-imdb-rating\" data-value=\"7.9\" name=\"ir\">\n",
       "<span class=\"global-sprite rating-star imdb-rating\"></span>\n",
       "<strong>7.9</strong>\n",
       "</div>\n",
       "<div class=\"inline-block ratings-user-rating\">\n",
       "<span class=\"userRatingValue\" data-tconst=\"tt8946378\" id=\"urv_tt8946378\">\n",
       "<span class=\"global-sprite rating-star no-rating\"></span>\n",
       "<span class=\"rate\" data-no-rating=\"Rate this\" data-value=\"0\" name=\"ur\">Rate this</span>\n",
       "</span>\n",
       "<div class=\"starBarWidget\" id=\"sb_tt8946378\">\n",
       "<div class=\"rating rating-list\" data-auth=\"\" data-ga-identifier=\"\" data-starbar-class=\"rating-list\" data-user=\"\" id=\"tt8946378|imdb|7.9|7.9|adv_li_tt||advsearch|title\" itemprop=\"aggregateRating\" itemscope=\"\" itemtype=\"http://schema.org/AggregateRating\" title=\"Users rated this 7.9/10 (363,873 votes) - click stars to rate\">\n",
       "<meta content=\"7.9\" itemprop=\"ratingValue\"/>\n",
       "<meta content=\"10\" itemprop=\"bestRating\"/>\n",
       "<meta content=\"363873\" itemprop=\"ratingCount\"/>\n",
       "<span class=\"rating-bg\"> </span>\n",
       "<span class=\"rating-imdb\" style=\"width: 110.6px\"> </span>\n",
       "<span class=\"rating-stars\">\n",
       "<a href=\"/register/login?why=vote\" rel=\"nofollow\" title=\"Register or login to rate this title\"><span>1</span></a>\n",
       "<a href=\"/register/login?why=vote\" rel=\"nofollow\" title=\"Register or login to rate this title\"><span>2</span></a>\n",
       "<a href=\"/register/login?why=vote\" rel=\"nofollow\" title=\"Register or login to rate this title\"><span>3</span></a>\n",
       "<a href=\"/register/login?why=vote\" rel=\"nofollow\" title=\"Register or login to rate this title\"><span>4</span></a>\n",
       "<a href=\"/register/login?why=vote\" rel=\"nofollow\" title=\"Register or login to rate this title\"><span>5</span></a>\n",
       "<a href=\"/register/login?why=vote\" rel=\"nofollow\" title=\"Register or login to rate this title\"><span>6</span></a>\n",
       "<a href=\"/register/login?why=vote\" rel=\"nofollow\" title=\"Register or login to rate this title\"><span>7</span></a>\n",
       "<a href=\"/register/login?why=vote\" rel=\"nofollow\" title=\"Register or login to rate this title\"><span>8</span></a>\n",
       "<a href=\"/register/login?why=vote\" rel=\"nofollow\" title=\"Register or login to rate this title\"><span>9</span></a>\n",
       "<a href=\"/register/login?why=vote\" rel=\"nofollow\" title=\"Register or login to rate this title\"><span>10</span></a>\n",
       "</span>\n",
       "<span class=\"rating-rating\"><span class=\"value\">7.9</span><span class=\"grey\">/</span><span class=\"grey\">10</span></span>\n",
       "<span class=\"rating-cancel\"><a href=\"/title/tt8946378/vote?v=X;k=\" rel=\"nofollow\" title=\"Delete\"><span>X</span></a></span>\n",
       " </div>\n",
       "</div>\n",
       "</div>\n",
       "<div class=\"inline-block ratings-metascore\">\n",
       "<span class=\"metascore favorable\">82        </span>\n",
       "        Metascore\n",
       "            </div>\n",
       "</div>\n",
       "<p class=\"text-muted\">\n",
       "    A detective investigates the death of a patriarch of an eccentric, combative family.</p>\n",
       "<p class=\"\">\n",
       "    Director:\n",
       "<a href=\"/name/nm0426059/\">Rian Johnson</a>\n",
       "<span class=\"ghost\">|</span> \n",
       "    Stars:\n",
       "<a href=\"/name/nm0185819/\">Daniel Craig</a>, \n",
       "<a href=\"/name/nm0262635/\">Chris Evans</a>, \n",
       "<a href=\"/name/nm1869101/\">Ana de Armas</a>, \n",
       "<a href=\"/name/nm0000130/\">Jamie Lee Curtis</a>\n",
       "</p>\n",
       "<p class=\"sort-num_votes-visible\">\n",
       "<span class=\"text-muted\">Votes:</span>\n",
       "<span data-value=\"363873\" name=\"nv\">363,873</span>\n",
       "<span class=\"ghost\">|</span> <span class=\"text-muted\">Gross:</span>\n",
       "<span data-value=\"165,359,751\" name=\"nv\">$165.36M</span>\n",
       "</p>\n",
       "</div>"
      ]
     },
     "execution_count": 19,
     "metadata": {},
     "output_type": "execute_result"
    }
   ],
   "source": [
    "box_movie = soup.find_all('div', attrs={'class':'lister-item-content'})\n",
    "box_movie[2]"
   ]
  },
  {
   "cell_type": "markdown",
   "metadata": {},
   "source": [
    "This code below is used to scrap all information that we need. \n",
    "\n",
    "- First of all we make us of  iteration to loop `box_webpage` with `div` tags and `attrs={'class':'lister-item-content'}`. The extract the title of the movie by using daframe  box_webpage, by adding `.text` with `a` tags. \n",
    "\n",
    "The same applies to `title_movie`, `rating_movie`,`metascore_movie, and `movie_votes`, where we use their unique tags and add `text`\n",
    "\n",
    "- However, `metascore_movie` it's a little bit diffent then the other three category. Here we use the logical statements  `if-else` because there are several movies do not have a metascore information. Thus, if the `metascore_movie` is None it will return None Value. Otherwise, it will return metascore."
   ]
  },
  {
   "cell_type": "code",
   "execution_count": 8,
   "metadata": {
    "ExecuteTime": {
     "end_time": "2020-01-13T05:12:24.008256Z",
     "start_time": "2020-01-13T05:12:23.980358Z"
    }
   },
   "outputs": [
    {
     "data": {
      "text/plain": [
       "('The Umbrella Academy', '8.0', None, '116,452')"
      ]
     },
     "execution_count": 8,
     "metadata": {},
     "output_type": "execute_result"
    }
   ],
   "source": [
    "temp = []\n",
    "\n",
    "for i in range(0, len(box_movie)):\n",
    "    box_webpage = main_webpage.find_all('div', attrs={'class':'lister-item-content'})[i]\n",
    "    \n",
    "    #Get Title\n",
    "    title_movie = box_webpage.find_all('a')[0].text\n",
    "\n",
    "    #Get Rating\n",
    "    rating_movie = box_webpage.find_all('strong')[0].text\n",
    "\n",
    "    #Get Metascore\n",
    "    metascore_movie = box_webpage.find('span', attrs={'class':'metascore favorable'})\n",
    "    if metascore_movie is not None:\n",
    "        metascore_movie = metascore_movie.text.strip()\n",
    "    else:\n",
    "        metascore_movie = None\n",
    "        \n",
    "    #Get Movie Votes\n",
    "    movie_votes = box_webpage.find_all('span', attrs={'name':'nv'})[0].text\n",
    "\n",
    "    temp.append((title_movie,rating_movie,metascore_movie,movie_votes))\n",
    "\n",
    "temp[0]"
   ]
  },
  {
   "cell_type": "markdown",
   "metadata": {},
   "source": [
    "Check the number of `temp` ! It should consists of elements"
   ]
  },
  {
   "cell_type": "markdown",
   "metadata": {},
   "source": [
    "In this part we finally establish our dataframe where we use `colums` to tidy up information into a table."
   ]
  },
  {
   "cell_type": "code",
   "execution_count": 9,
   "metadata": {
    "ExecuteTime": {
     "end_time": "2020-01-13T05:12:41.517372Z",
     "start_time": "2020-01-13T05:12:29.130015Z"
    }
   },
   "outputs": [
    {
     "data": {
      "text/html": [
       "<div>\n",
       "<style scoped>\n",
       "    .dataframe tbody tr th:only-of-type {\n",
       "        vertical-align: middle;\n",
       "    }\n",
       "\n",
       "    .dataframe tbody tr th {\n",
       "        vertical-align: top;\n",
       "    }\n",
       "\n",
       "    .dataframe thead th {\n",
       "        text-align: right;\n",
       "    }\n",
       "</style>\n",
       "<table border=\"1\" class=\"dataframe\">\n",
       "  <thead>\n",
       "    <tr style=\"text-align: right;\">\n",
       "      <th></th>\n",
       "      <th>Title_Movie</th>\n",
       "      <th>Imdb_Rating</th>\n",
       "      <th>Metascore</th>\n",
       "      <th>Movie_Votes</th>\n",
       "    </tr>\n",
       "  </thead>\n",
       "  <tbody>\n",
       "    <tr>\n",
       "      <th>0</th>\n",
       "      <td>The Umbrella Academy</td>\n",
       "      <td>8.0</td>\n",
       "      <td>None</td>\n",
       "      <td>116,452</td>\n",
       "    </tr>\n",
       "    <tr>\n",
       "      <th>1</th>\n",
       "      <td>The Boys</td>\n",
       "      <td>8.7</td>\n",
       "      <td>None</td>\n",
       "      <td>158,061</td>\n",
       "    </tr>\n",
       "    <tr>\n",
       "      <th>2</th>\n",
       "      <td>Knives Out</td>\n",
       "      <td>7.9</td>\n",
       "      <td>82</td>\n",
       "      <td>363,873</td>\n",
       "    </tr>\n",
       "    <tr>\n",
       "      <th>3</th>\n",
       "      <td>Jojo Rabbit</td>\n",
       "      <td>7.9</td>\n",
       "      <td>None</td>\n",
       "      <td>245,305</td>\n",
       "    </tr>\n",
       "    <tr>\n",
       "      <th>4</th>\n",
       "      <td>Doom Patrol</td>\n",
       "      <td>8.0</td>\n",
       "      <td>None</td>\n",
       "      <td>28,782</td>\n",
       "    </tr>\n",
       "  </tbody>\n",
       "</table>\n",
       "</div>"
      ],
      "text/plain": [
       "            Title_Movie Imdb_Rating Metascore Movie_Votes\n",
       "0  The Umbrella Academy         8.0      None     116,452\n",
       "1              The Boys         8.7      None     158,061\n",
       "2            Knives Out         7.9        82     363,873\n",
       "3           Jojo Rabbit         7.9      None     245,305\n",
       "4           Doom Patrol         8.0      None      28,782"
      ]
     },
     "execution_count": 9,
     "metadata": {},
     "output_type": "execute_result"
    }
   ],
   "source": [
    "import pandas as pd\n",
    "\n",
    "dataset_movie = pd.DataFrame(temp, columns = ('Title_Movie', 'Imdb_Rating', 'Metascore', 'Movie_Votes'))\n",
    "dataset_movie.head()"
   ]
  },
  {
   "cell_type": "markdown",
   "metadata": {},
   "source": [
    "Check the types of the column first using `.dtypes` for getting the data types information in each column"
   ]
  },
  {
   "cell_type": "code",
   "execution_count": 10,
   "metadata": {},
   "outputs": [
    {
     "data": {
      "text/plain": [
       "Title_Movie    object\n",
       "Imdb_Rating    object\n",
       "Metascore      object\n",
       "Movie_Votes    object\n",
       "dtype: object"
      ]
     },
     "execution_count": 10,
     "metadata": {},
     "output_type": "execute_result"
    }
   ],
   "source": [
    "dataset_movie.dtypes"
   ]
  },
  {
   "cell_type": "markdown",
   "metadata": {},
   "source": [
    "In this part we do data wrangling. First i use the `lambda` function to replace the `,` in `Movie_Votes` into  `.`. This is because we later on want to convert `Movie_Votes` into `float64`.\n",
    "\n",
    "we use `pd.to_numeric` to also convert `Metascore` into `float` while also using `errors=coerce` to coerce any error value in `Metascore`"
   ]
  },
  {
   "cell_type": "code",
   "execution_count": 11,
   "metadata": {
    "ExecuteTime": {
     "end_time": "2020-01-13T05:12:59.165559Z",
     "start_time": "2020-01-13T05:12:58.910012Z"
    }
   },
   "outputs": [],
   "source": [
    "dataset_movie['Movie_Votes'] = dataset_movie['Movie_Votes'].apply(lambda x: x.replace(',','.'))\n",
    "dataset_movie['Metascore'] = pd.to_numeric(dataset_movie['Metascore'], errors='coerce')\n",
    "dataset_movie[['Imdb_Rating','Movie_Votes']] = dataset_movie[['Imdb_Rating','Movie_Votes']].astype('float64')"
   ]
  },
  {
   "cell_type": "markdown",
   "metadata": {},
   "source": [
    "Here we do a last final check that the right datatypes is used."
   ]
  },
  {
   "cell_type": "code",
   "execution_count": 12,
   "metadata": {},
   "outputs": [
    {
     "data": {
      "text/plain": [
       "Title_Movie     object\n",
       "Imdb_Rating    float64\n",
       "Metascore      float64\n",
       "Movie_Votes    float64\n",
       "dtype: object"
      ]
     },
     "execution_count": 12,
     "metadata": {},
     "output_type": "execute_result"
    }
   ],
   "source": [
    "dataset_movie.dtypes"
   ]
  },
  {
   "cell_type": "markdown",
   "metadata": {},
   "source": [
    "In this code below we are going to use bar plot to visualize the Top 7 Movies, by looking at the amount of votes given by viewers.\n",
    "\n",
    "As the project question is about finding popularity, i use the sort_values attribute to sort data frame based on movie votes."
   ]
  },
  {
   "cell_type": "code",
   "execution_count": 13,
   "metadata": {
    "ExecuteTime": {
     "end_time": "2020-01-13T05:20:56.208237Z",
     "start_time": "2020-01-13T05:20:56.076043Z"
    },
    "tags": []
   },
   "outputs": [
    {
     "name": "stdout",
     "output_type": "stream",
     "text": [
      "AxesSubplot(0.125,0.125;0.775x0.755)\n"
     ]
    },
    {
     "data": {
      "image/png": "[encoded data removed]",
      "text/plain": [
       "<Figure size 432x288 with 1 Axes>"
      ]
     },
     "metadata": {
      "needs_background": "light"
     },
     "output_type": "display_data"
    }
   ],
   "source": [
    "import matplotlib.pyplot as plt\n",
    "\n",
    "top_7movie = dataset_movie.sort_values(by=['Movie_Votes'], ascending=False).head(7)\n",
    "\n",
    "top_7movie = top_7movie.set_index('Title_Movie')\n",
    "\n",
    "ax = top_7movie['Movie_Votes'].sort_values(ascending=True).plot(kind='barh', title='The Top 7 Movies')\n",
    "ax.set_xlabel('Amount of Votes')\n",
    "ax.set_ylabel(\"Title of Movies\")\n",
    "\n",
    "print(ax)"
   ]
  }
 ],
 "metadata": {
  "kernelspec": {
   "display_name": "Python 3",
   "language": "python",
   "name": "python3"
  },
  "language_info": {
   "codemirror_mode": {
    "name": "ipython",
    "version": 3
   },
   "file_extension": ".py",
   "mimetype": "text/x-python",
   "name": "python",
   "nbconvert_exporter": "python",
   "pygments_lexer": "ipython3",
   "version": "3.7.6"
  },
  "toc": {
   "base_numbering": 1,
   "nav_menu": {},
   "number_sections": true,
   "sideBar": true,
   "skip_h1_title": false,
   "title_cell": "Table of Contents",
   "title_sidebar": "Contents",
   "toc_cell": false,
   "toc_position": {},
   "toc_section_display": true,
   "toc_window_display": false
  }
 },
 "nbformat": 4,
 "nbformat_minor": 2
}
